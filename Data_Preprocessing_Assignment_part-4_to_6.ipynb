{
 "cells": [
  {
   "cell_type": "markdown",
   "id": "5725cccc-7944-4f3b-9974-0517f2e05cba",
   "metadata": {},
   "source": [
    "# Student dataset\n",
    "\n",
    "Dataset Description\n",
    "\n",
    "This dataset, titled \"Intro to Data Cleaning, EDA, and Machine Learning,\" is designed to help learners practice essential data science techniques such as data cleaning, exploratory data analysis (EDA), and machine learning. It contains information on students, including their demographic and academic data, such as age, gender, country of origin, study hours, and scores in Python and Database (DB) courses.\n",
    "The dataset was initially raw and required significant cleaning to handle inconsistencies, missing values, and outliers, providing an excellent opportunity for hands-on data cleaning and preprocessing.\n",
    "Data Challenges\n",
    "●\tInconsistencies: Mixed formats in gender, country, and prevEducation fields, such as \"Male\" vs. \"M\" or \"Rsa\" vs. \"RSA,\" leading to unreliable analysis.\n",
    "●\tMissing Values: Incomplete data, particularly in the Python and DB scores, could bias the results.\n",
    "●\tOutliers: Extreme or unrealistic values in performance scores can skew predictions or analyses."
   ]
  },
  {
   "cell_type": "markdown",
   "id": "0864437e-65ec-4a67-8d28-3e0c65b4e44c",
   "metadata": {},
   "source": [
    "**Import Libraries**"
   ]
  },
  {
   "cell_type": "code",
   "execution_count": 7,
   "id": "999bbb5f-8380-4dbb-91c0-378ea21cd057",
   "metadata": {},
   "outputs": [],
   "source": [
    "import pandas as pd"
   ]
  },
  {
   "cell_type": "markdown",
   "id": "fa2881d3-d436-4c0c-a88b-6082edcc575f",
   "metadata": {},
   "source": [
    "**Load dataset**"
   ]
  },
  {
   "cell_type": "code",
   "execution_count": 8,
   "id": "eaa142d0-72f1-47ad-bd16-88309a15dd12",
   "metadata": {},
   "outputs": [
    {
     "name": "stdout",
     "output_type": "stream",
     "text": [
      "file loaded succesfully\n"
     ]
    }
   ],
   "source": [
    "df = pd.read_csv(\"D:\\E\\Courses\\Data Science\\Digital Egypt Generation\\Material\\Python\\Data Preprocessing and Visualization\\Pandas\\Pandas part 2\\Pre-processing Data in Python/cleaned_students.csv\", encoding=\"latin1\")\n",
    "print (\"file loaded succesfully\")"
   ]
  },
  {
   "cell_type": "markdown",
   "id": "74caef26-823d-4a33-acdd-fdcb9b6b7d98",
   "metadata": {},
   "source": [
    "**LEVEL-2**"
   ]
  },
  {
   "cell_type": "markdown",
   "id": "0a961941-2577-415c-8748-177290553747",
   "metadata": {},
   "source": [
    "**Part 4** – Feature Engineering\n",
    "Examples:\n",
    "\n",
    "●\tCreate a new feature: Programming Average = (Python + DB)/2.\n",
    "\n",
    "●\tCreate a binary feature: isAdult = 1 if Age >= 25, else 0.\n",
    "\n",
    "●\tTransform studyHOURS into categories (Low / Medium / High).\n",
    "\n",
    "Question: Which engineered feature do you think would add the most predictive power to the model?\n"
   ]
  },
  {
   "cell_type": "code",
   "execution_count": 9,
   "id": "17ca29e2-c7a5-4962-beb0-37649a94752e",
   "metadata": {},
   "outputs": [
    {
     "name": "stdout",
     "output_type": "stream",
     "text": [
      "(77, 11)\n",
      "<class 'pandas.core.frame.DataFrame'>\n",
      "RangeIndex: 77 entries, 0 to 76\n",
      "Data columns (total 11 columns):\n",
      " #   Column         Non-Null Count  Dtype  \n",
      "---  ------         --------------  -----  \n",
      " 0   fNAME          77 non-null     object \n",
      " 1   lNAME          77 non-null     object \n",
      " 2   Age            77 non-null     int64  \n",
      " 3   gender         77 non-null     object \n",
      " 4   country        77 non-null     object \n",
      " 5   residence      77 non-null     object \n",
      " 6   entryEXAM      77 non-null     int64  \n",
      " 7   prevEducation  77 non-null     object \n",
      " 8   studyHOURS     77 non-null     int64  \n",
      " 9   Python         77 non-null     float64\n",
      " 10  DB             77 non-null     int64  \n",
      "dtypes: float64(1), int64(4), object(6)\n",
      "memory usage: 6.7+ KB\n",
      "None\n"
     ]
    },
    {
     "data": {
      "text/html": [
       "<div>\n",
       "<style scoped>\n",
       "    .dataframe tbody tr th:only-of-type {\n",
       "        vertical-align: middle;\n",
       "    }\n",
       "\n",
       "    .dataframe tbody tr th {\n",
       "        vertical-align: top;\n",
       "    }\n",
       "\n",
       "    .dataframe thead th {\n",
       "        text-align: right;\n",
       "    }\n",
       "</style>\n",
       "<table border=\"1\" class=\"dataframe\">\n",
       "  <thead>\n",
       "    <tr style=\"text-align: right;\">\n",
       "      <th></th>\n",
       "      <th>fNAME</th>\n",
       "      <th>lNAME</th>\n",
       "      <th>Age</th>\n",
       "      <th>gender</th>\n",
       "      <th>country</th>\n",
       "      <th>residence</th>\n",
       "      <th>entryEXAM</th>\n",
       "      <th>prevEducation</th>\n",
       "      <th>studyHOURS</th>\n",
       "      <th>Python</th>\n",
       "      <th>DB</th>\n",
       "    </tr>\n",
       "  </thead>\n",
       "  <tbody>\n",
       "    <tr>\n",
       "      <th>0</th>\n",
       "      <td>Christina</td>\n",
       "      <td>Binger</td>\n",
       "      <td>44</td>\n",
       "      <td>Female</td>\n",
       "      <td>NORWAY</td>\n",
       "      <td>Private</td>\n",
       "      <td>72</td>\n",
       "      <td>Masters</td>\n",
       "      <td>158</td>\n",
       "      <td>59.000000</td>\n",
       "      <td>55</td>\n",
       "    </tr>\n",
       "    <tr>\n",
       "      <th>1</th>\n",
       "      <td>Alex</td>\n",
       "      <td>Walekhwa</td>\n",
       "      <td>60</td>\n",
       "      <td>Male</td>\n",
       "      <td>KENYA</td>\n",
       "      <td>Private</td>\n",
       "      <td>79</td>\n",
       "      <td>Diploma</td>\n",
       "      <td>150</td>\n",
       "      <td>60.000000</td>\n",
       "      <td>75</td>\n",
       "    </tr>\n",
       "    <tr>\n",
       "      <th>2</th>\n",
       "      <td>Philip</td>\n",
       "      <td>Leo</td>\n",
       "      <td>25</td>\n",
       "      <td>Male</td>\n",
       "      <td>UGANDA</td>\n",
       "      <td>Sognsvann</td>\n",
       "      <td>55</td>\n",
       "      <td>High School</td>\n",
       "      <td>130</td>\n",
       "      <td>74.000000</td>\n",
       "      <td>50</td>\n",
       "    </tr>\n",
       "    <tr>\n",
       "      <th>3</th>\n",
       "      <td>Shoni</td>\n",
       "      <td>Hlongwane</td>\n",
       "      <td>22</td>\n",
       "      <td>Female</td>\n",
       "      <td>SOUTH AFRICA</td>\n",
       "      <td>Sognsvann</td>\n",
       "      <td>40</td>\n",
       "      <td>High School</td>\n",
       "      <td>123</td>\n",
       "      <td>75.853333</td>\n",
       "      <td>44</td>\n",
       "    </tr>\n",
       "    <tr>\n",
       "      <th>4</th>\n",
       "      <td>Maria</td>\n",
       "      <td>Kedibone</td>\n",
       "      <td>23</td>\n",
       "      <td>Female</td>\n",
       "      <td>SOUTH AFRICA</td>\n",
       "      <td>Sognsvann</td>\n",
       "      <td>65</td>\n",
       "      <td>High School</td>\n",
       "      <td>123</td>\n",
       "      <td>91.000000</td>\n",
       "      <td>80</td>\n",
       "    </tr>\n",
       "  </tbody>\n",
       "</table>\n",
       "</div>"
      ],
      "text/plain": [
       "       fNAME      lNAME  Age  gender       country  residence  entryEXAM  \\\n",
       "0  Christina     Binger   44  Female        NORWAY    Private         72   \n",
       "1       Alex   Walekhwa   60    Male         KENYA    Private         79   \n",
       "2     Philip        Leo   25    Male        UGANDA  Sognsvann         55   \n",
       "3      Shoni  Hlongwane   22  Female  SOUTH AFRICA  Sognsvann         40   \n",
       "4      Maria   Kedibone   23  Female  SOUTH AFRICA  Sognsvann         65   \n",
       "\n",
       "  prevEducation  studyHOURS     Python  DB  \n",
       "0       Masters         158  59.000000  55  \n",
       "1       Diploma         150  60.000000  75  \n",
       "2   High School         130  74.000000  50  \n",
       "3   High School         123  75.853333  44  \n",
       "4   High School         123  91.000000  80  "
      ]
     },
     "execution_count": 9,
     "metadata": {},
     "output_type": "execute_result"
    }
   ],
   "source": [
    "# Dataset structure\n",
    "print(df.shape)       # Rows, Columns\n",
    "print(df.info())      # Data types\n",
    "df.head()"
   ]
  },
  {
   "cell_type": "code",
   "execution_count": 6,
   "id": "93a0800b-d0f0-4f60-bea5-a1740f5f46d0",
   "metadata": {},
   "outputs": [
    {
     "name": "stdout",
     "output_type": "stream",
     "text": [
      "        fNAME      lNAME  Age     Python  DB  Programming_Avg  isAdult  \\\n",
      "0   Christina     Binger   44  59.000000  55        57.000000        1   \n",
      "1        Alex   Walekhwa   60  60.000000  75        67.500000        1   \n",
      "2      Philip        Leo   25  74.000000  50        62.000000        1   \n",
      "3       Shoni  Hlongwane   22  75.853333  44        59.926667        0   \n",
      "4       Maria   Kedibone   23  91.000000  80        85.500000        0   \n",
      "5      Hannah     Hansen   25  88.000000  59        73.500000        1   \n",
      "6         Ole   Johansen   27  80.000000  91        85.500000        1   \n",
      "7        Lars      Olsen   29  85.000000  60        72.500000        1   \n",
      "8      BjÃ¸rn     Larsen   31  80.000000  89        84.500000        1   \n",
      "9       Sofie     Jensen   33  83.000000  90        86.500000        1   \n",
      "10       Emma   de Vries   34  79.000000  58        68.500000        1   \n",
      "11    Solveig   Eliassen   36  80.000000  55        67.500000        1   \n",
      "12        Odd    Knudsen   38  85.000000  99        92.000000        1   \n",
      "13     Grethe  Myklebust   40  70.000000  76        73.000000        1   \n",
      "14      Marco      Rossi   42  75.000000  77        76.000000        1   \n",
      "\n",
      "    studyHOURS studyHOURS_cat  \n",
      "0          158           High  \n",
      "1          150           High  \n",
      "2          130         Medium  \n",
      "3          123         Medium  \n",
      "4          123         Medium  \n",
      "5          130         Medium  \n",
      "6          156           High  \n",
      "7          160           High  \n",
      "8          156           High  \n",
      "9          160           High  \n",
      "10         156           High  \n",
      "11         156           High  \n",
      "12         156           High  \n",
      "13         144         Medium  \n",
      "14         152           High  \n"
     ]
    }
   ],
   "source": [
    "# 1. Programming Average\n",
    "df[\"Programming_Avg\"] = (df[\"Python\"] + df[\"DB\"]) / 2\n",
    "\n",
    "# 2. Binary feature: isAdult\n",
    "df[\"isAdult\"] = df[\"Age\"].apply(lambda x: 1 if x >= 25 else 0)\n",
    "\n",
    "# 3. Categorize studyHOURS\n",
    "def categorize_hours(h):\n",
    "    if h < 100:\n",
    "        return \"Low\"\n",
    "    elif 100 <= h < 150:\n",
    "        return \"Medium\"\n",
    "    else:\n",
    "        return \"High\"\n",
    "\n",
    "df[\"studyHOURS_cat\"] = df[\"studyHOURS\"].apply(categorize_hours)\n",
    "\n",
    "\n",
    "# Show the new engineered columns\n",
    "print(df[[\"fNAME\", \"lNAME\", \"Age\", \"Python\", \"DB\", \n",
    "          \"Programming_Avg\", \"isAdult\", \"studyHOURS\", \"studyHOURS_cat\"]].head(15))\n"
   ]
  },
  {
   "cell_type": "markdown",
   "id": "7f7976cf-0b86-451c-a2b8-fb555e72dae2",
   "metadata": {},
   "source": [
    "*The most predictive engineered feature is likely Programming_Avg, because:*\n",
    "\n",
    "1. It directly reflects student performance in two technical courses.\n",
    "\n",
    "2. It reduces noise by combining two related variables into one."
   ]
  },
  {
   "cell_type": "markdown",
   "id": "ef5d4d70-50cc-415e-8a84-1d12a45456a8",
   "metadata": {},
   "source": [
    "----------------------------------------------------------------------------------------------------------------------------"
   ]
  },
  {
   "cell_type": "markdown",
   "id": "197ee6fb-2381-4ee7-b1e0-45560a2b93aa",
   "metadata": {},
   "source": [
    "**Part 5**  – Feature Scaling\n",
    "\n",
    "●\tDetect Numeric Columns\n",
    "\n",
    "●\tApply Scaling\n",
    "\n",
    "○\tOption 1: StandardScaler (mean=0, std=1) → good for SVM, Logistic Regression.\n",
    "\n",
    "○\tOption 2: MinMaxScaler (range 0–1) → good for Neural Networks, KNN.\n"
   ]
  },
  {
   "cell_type": "markdown",
   "id": "d05c8a20-8bd4-419a-bcaf-55fe364b1d18",
   "metadata": {},
   "source": [
    "**Step 1**: Detect Numeric Columns"
   ]
  },
  {
   "cell_type": "code",
   "execution_count": 10,
   "id": "52caedaa-c826-48d9-9ce8-198ac251d54a",
   "metadata": {},
   "outputs": [
    {
     "name": "stdout",
     "output_type": "stream",
     "text": [
      "Index(['Age', 'entryEXAM', 'studyHOURS', 'Python', 'DB'], dtype='object')\n"
     ]
    }
   ],
   "source": [
    "numeric_cols = df.select_dtypes(include=[\"int64\", \"float64\"]).columns\n",
    "print(numeric_cols)"
   ]
  },
  {
   "cell_type": "markdown",
   "id": "536feb35-8f92-4df5-a619-0eec7733b21d",
   "metadata": {},
   "source": [
    "**Step 2**: Apply Scaling"
   ]
  },
  {
   "cell_type": "code",
   "execution_count": 19,
   "id": "6398c9a7-a142-4d74-9fac-c720df1b8259",
   "metadata": {},
   "outputs": [
    {
     "name": "stdout",
     "output_type": "stream",
     "text": [
      "Option 1 \n",
      "        fNAME      lNAME       Age  gender       country  residence  entryEXAM  \\\n",
      "0  Christina     Binger  0.855723  Female        NORWAY    Private  -0.290391   \n",
      "1       Alex   Walekhwa  2.412963    Male         KENYA    Private   0.137261   \n",
      "2     Philip        Leo -0.993499    Male        UGANDA  Sognsvann  -1.328974   \n",
      "3      Shoni  Hlongwane -1.285481  Female  SOUTH AFRICA  Sognsvann  -2.245371   \n",
      "4      Maria   Kedibone -1.188154  Female  SOUTH AFRICA  Sognsvann  -0.718043   \n",
      "\n",
      "  prevEducation  studyHOURS    Python        DB  \n",
      "0       Masters    0.673635 -1.667216 -0.854917  \n",
      "1       Diploma   -0.007743 -1.576215  0.326925  \n",
      "2   High School   -1.711189 -0.302202 -1.150378  \n",
      "3   High School   -2.307395 -0.133547 -1.504930  \n",
      "4   High School   -2.307395  1.244814  0.622386   \n",
      "\n",
      "\n",
      "Option 2 \n",
      "        fNAME      lNAME   Age  gender       country  residence  entryEXAM  \\\n",
      "0  Christina     Binger  0.46  Female        NORWAY    Private   0.628571   \n",
      "1       Alex   Walekhwa  0.78    Male         KENYA    Private   0.728571   \n",
      "2     Philip        Leo  0.08    Male        UGANDA  Sognsvann   0.385714   \n",
      "3      Shoni  Hlongwane  0.02  Female  SOUTH AFRICA  Sognsvann   0.171429   \n",
      "4      Maria   Kedibone  0.04  Female  SOUTH AFRICA  Sognsvann   0.528571   \n",
      "\n",
      "  prevEducation  studyHOURS    Python        DB  \n",
      "0       Masters    0.945946  0.168831  0.357143  \n",
      "1       Diploma    0.729730  0.194805  0.642857  \n",
      "2   High School    0.189189  0.558442  0.285714  \n",
      "3   High School    0.000000  0.606580  0.200000  \n",
      "4   High School    0.000000  1.000000  0.714286  \n"
     ]
    }
   ],
   "source": [
    "from sklearn.preprocessing import StandardScaler\n",
    "\n",
    "# Option 1: StandardScaler\n",
    "scaler_std = StandardScaler()\n",
    "df_std = df.copy()\n",
    "df_std[numeric_cols] = scaler_std.fit_transform(df[numeric_cols])\n",
    "\n",
    "print(\"Option 1 \\n\", df_std.head(),\"\\n\")\n",
    "\n",
    "# Option 2: MinMaxScaler\n",
    "from sklearn.preprocessing import MinMaxScaler\n",
    "\n",
    "scaler_mm = MinMaxScaler()\n",
    "df_mm = df.copy()\n",
    "df_mm[numeric_cols] = scaler_mm.fit_transform(df[numeric_cols])\n",
    "print()\n",
    "print(\"Option 2 \\n\", df_mm.head())"
   ]
  },
  {
   "cell_type": "markdown",
   "id": "b19c686b-fd8f-4672-84c4-98654651be29",
   "metadata": {},
   "source": [
    "--------------------------------------------------------------------------------------------------------------------------------------------------------\n",
    "--------------------------------------------------------------------------------------------------------------------------------------------------------"
   ]
  },
  {
   "cell_type": "markdown",
   "id": "a1d1850a-ce6c-4ec4-baae-259dc1dc7009",
   "metadata": {},
   "source": [
    "**Part 6** – Encoding Categorical Data\n",
    "\n",
    "●\tDetect Categorical Columns\n",
    "\n",
    "●\tHandle Encoding"
   ]
  },
  {
   "cell_type": "code",
   "execution_count": 20,
   "id": "d5330656-3329-4c14-898e-42d083010bdd",
   "metadata": {},
   "outputs": [],
   "source": [
    "# Detect categorical columns\n",
    "categorical_cols = df.select_dtypes(include=[\"object\"]).columns\n",
    "\n",
    "# Handle Encoding\n",
    "df_encoded = df.copy()\n",
    "le = LabelEncoder()\n",
    "for col in categorical_cols:\n",
    "    df_encoded[col] = le.fit_transform(df_encoded[col].astype(str))"
   ]
  },
  {
   "cell_type": "code",
   "execution_count": 21,
   "id": "689a754e-8d9d-4d48-84ca-470fcadf7611",
   "metadata": {},
   "outputs": [
    {
     "name": "stdout",
     "output_type": "stream",
     "text": [
      "Original DataFrame with Engineered Features:\n",
      "       fNAME      lNAME  Age  gender       country  residence  entryEXAM  \\\n",
      "0  Christina     Binger   44  Female        NORWAY    Private         72   \n",
      "1       Alex   Walekhwa   60    Male         KENYA    Private         79   \n",
      "2     Philip        Leo   25    Male        UGANDA  Sognsvann         55   \n",
      "3      Shoni  Hlongwane   22  Female  SOUTH AFRICA  Sognsvann         40   \n",
      "4      Maria   Kedibone   23  Female  SOUTH AFRICA  Sognsvann         65   \n",
      "\n",
      "  prevEducation  studyHOURS     Python  DB  \n",
      "0       Masters         158  59.000000  55  \n",
      "1       Diploma         150  60.000000  75  \n",
      "2   High School         130  74.000000  50  \n",
      "3   High School         123  75.853333  44  \n",
      "4   High School         123  91.000000  80   \n",
      "\n",
      "Standard Scaled DataFrame (first 5 rows):\n",
      "       fNAME      lNAME       Age  gender       country  residence  entryEXAM  \\\n",
      "0  Christina     Binger  0.855723  Female        NORWAY    Private  -0.290391   \n",
      "1       Alex   Walekhwa  2.412963    Male         KENYA    Private   0.137261   \n",
      "2     Philip        Leo -0.993499    Male        UGANDA  Sognsvann  -1.328974   \n",
      "3      Shoni  Hlongwane -1.285481  Female  SOUTH AFRICA  Sognsvann  -2.245371   \n",
      "4      Maria   Kedibone -1.188154  Female  SOUTH AFRICA  Sognsvann  -0.718043   \n",
      "\n",
      "  prevEducation  studyHOURS    Python        DB  \n",
      "0       Masters    0.673635 -1.667216 -0.854917  \n",
      "1       Diploma   -0.007743 -1.576215  0.326925  \n",
      "2   High School   -1.711189 -0.302202 -1.150378  \n",
      "3   High School   -2.307395 -0.133547 -1.504930  \n",
      "4   High School   -2.307395  1.244814  0.622386   \n",
      "\n",
      "MinMax Scaled DataFrame (first 5 rows):\n",
      "       fNAME      lNAME   Age  gender       country  residence  entryEXAM  \\\n",
      "0  Christina     Binger  0.46  Female        NORWAY    Private   0.628571   \n",
      "1       Alex   Walekhwa  0.78    Male         KENYA    Private   0.728571   \n",
      "2     Philip        Leo  0.08    Male        UGANDA  Sognsvann   0.385714   \n",
      "3      Shoni  Hlongwane  0.02  Female  SOUTH AFRICA  Sognsvann   0.171429   \n",
      "4      Maria   Kedibone  0.04  Female  SOUTH AFRICA  Sognsvann   0.528571   \n",
      "\n",
      "  prevEducation  studyHOURS    Python        DB  \n",
      "0       Masters    0.945946  0.168831  0.357143  \n",
      "1       Diploma    0.729730  0.194805  0.642857  \n",
      "2   High School    0.189189  0.558442  0.285714  \n",
      "3   High School    0.000000  0.606580  0.200000  \n",
      "4   High School    0.000000  1.000000  0.714286   \n",
      "\n",
      "Encoded Categorical DataFrame (first 5 rows):\n",
      "   fNAME  lNAME  Age  gender  country  residence  entryEXAM  prevEducation  \\\n",
      "0     10     10   44       0        7          4         72              4   \n",
      "1      1     64   60       1        4          4         79              1   \n",
      "2     53     36   25       1       11          5         55              3   \n",
      "3     57     22   22       0        9          5         40              3   \n",
      "4     38     29   23       0        9          5         65              3   \n",
      "\n",
      "   studyHOURS     Python  DB  \n",
      "0         158  59.000000  55  \n",
      "1         150  60.000000  75  \n",
      "2         130  74.000000  50  \n",
      "3         123  75.853333  44  \n",
      "4         123  91.000000  80  \n"
     ]
    }
   ],
   "source": [
    "print(\"Original DataFrame with Engineered Features:\")\n",
    "print(df.head(), \"\\n\")\n",
    "\n",
    "print(\"Standard Scaled DataFrame (first 5 rows):\")\n",
    "print(df_std.head(), \"\\n\")\n",
    "\n",
    "print(\"MinMax Scaled DataFrame (first 5 rows):\")\n",
    "print(df_mm.head(), \"\\n\")\n",
    "\n",
    "print(\"Encoded Categorical DataFrame (first 5 rows):\")\n",
    "print(df_encoded.head())\n"
   ]
  },
  {
   "cell_type": "code",
   "execution_count": null,
   "id": "41b50c12-31f4-49db-8d6a-2fee8196fd1c",
   "metadata": {},
   "outputs": [],
   "source": []
  }
 ],
 "metadata": {
  "kernelspec": {
   "display_name": "Python 3 (ipykernel)",
   "language": "python",
   "name": "python3"
  },
  "language_info": {
   "codemirror_mode": {
    "name": "ipython",
    "version": 3
   },
   "file_extension": ".py",
   "mimetype": "text/x-python",
   "name": "python",
   "nbconvert_exporter": "python",
   "pygments_lexer": "ipython3",
   "version": "3.13.5"
  }
 },
 "nbformat": 4,
 "nbformat_minor": 5
}
