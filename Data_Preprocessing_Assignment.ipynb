{
 "cells": [
  {
   "cell_type": "markdown",
   "id": "5725cccc-7944-4f3b-9974-0517f2e05cba",
   "metadata": {},
   "source": [
    "# Student dataset\n",
    "\n",
    "Dataset Description\n",
    "\n",
    "This dataset, titled \"Intro to Data Cleaning, EDA, and Machine Learning,\" is designed to help learners practice essential data science techniques such as data cleaning, exploratory data analysis (EDA), and machine learning. It contains information on students, including their demographic and academic data, such as age, gender, country of origin, study hours, and scores in Python and Database (DB) courses.\n",
    "The dataset was initially raw and required significant cleaning to handle inconsistencies, missing values, and outliers, providing an excellent opportunity for hands-on data cleaning and preprocessing.\n",
    "Data Challenges\n",
    "●\tInconsistencies: Mixed formats in gender, country, and prevEducation fields, such as \"Male\" vs. \"M\" or \"Rsa\" vs. \"RSA,\" leading to unreliable analysis.\n",
    "●\tMissing Values: Incomplete data, particularly in the Python and DB scores, could bias the results.\n",
    "●\tOutliers: Extreme or unrealistic values in performance scores can skew predictions or analyses."
   ]
  },
  {
   "cell_type": "markdown",
   "id": "0864437e-65ec-4a67-8d28-3e0c65b4e44c",
   "metadata": {},
   "source": [
    "**Import Libraries**"
   ]
  },
  {
   "cell_type": "code",
   "execution_count": 32,
   "id": "999bbb5f-8380-4dbb-91c0-378ea21cd057",
   "metadata": {},
   "outputs": [],
   "source": [
    "import pandas as pd"
   ]
  },
  {
   "cell_type": "markdown",
   "id": "fa2881d3-d436-4c0c-a88b-6082edcc575f",
   "metadata": {},
   "source": [
    "**Load dataset**"
   ]
  },
  {
   "cell_type": "code",
   "execution_count": 33,
   "id": "eaa142d0-72f1-47ad-bd16-88309a15dd12",
   "metadata": {},
   "outputs": [],
   "source": [
    "df = pd.read_csv(\"D:/E/Courses/Data Science/Digital Egypt Generation/Material/Python/Data Preprocessing and Visualization/Pandas/Pandas Practice Part1/Assignment 19 sep/bi.csv\", encoding=\"latin1\")"
   ]
  },
  {
   "cell_type": "markdown",
   "id": "74caef26-823d-4a33-acdd-fdcb9b6b7d98",
   "metadata": {},
   "source": [
    "**Tasks – Data Cleaning, Missing Data, Outliers**"
   ]
  },
  {
   "cell_type": "markdown",
   "id": "0a961941-2577-415c-8748-177290553747",
   "metadata": {},
   "source": [
    "**Part 1 – Data Cleaning**\n",
    "    \n",
    "*1.\tCheck dataset structure*\n",
    "\n",
    "○\tUse df.shape, df.info(), and df.head() to understand the number of rows, columns, and data types.\n",
    "\n",
    "○\tQuestion: Which columns should be categorical and which should be numerical?\n"
   ]
  },
  {
   "cell_type": "code",
   "execution_count": 34,
   "id": "17ca29e2-c7a5-4962-beb0-37649a94752e",
   "metadata": {},
   "outputs": [
    {
     "name": "stdout",
     "output_type": "stream",
     "text": [
      "(77, 11)\n",
      "<class 'pandas.core.frame.DataFrame'>\n",
      "RangeIndex: 77 entries, 0 to 76\n",
      "Data columns (total 11 columns):\n",
      " #   Column         Non-Null Count  Dtype  \n",
      "---  ------         --------------  -----  \n",
      " 0   fNAME          77 non-null     object \n",
      " 1   lNAME          77 non-null     object \n",
      " 2   Age            77 non-null     int64  \n",
      " 3   gender         77 non-null     object \n",
      " 4   country        77 non-null     object \n",
      " 5   residence      77 non-null     object \n",
      " 6   entryEXAM      77 non-null     int64  \n",
      " 7   prevEducation  77 non-null     object \n",
      " 8   studyHOURS     77 non-null     int64  \n",
      " 9   Python         75 non-null     float64\n",
      " 10  DB             77 non-null     int64  \n",
      "dtypes: float64(1), int64(4), object(6)\n",
      "memory usage: 6.7+ KB\n",
      "None\n"
     ]
    },
    {
     "data": {
      "text/html": [
       "<div>\n",
       "<style scoped>\n",
       "    .dataframe tbody tr th:only-of-type {\n",
       "        vertical-align: middle;\n",
       "    }\n",
       "\n",
       "    .dataframe tbody tr th {\n",
       "        vertical-align: top;\n",
       "    }\n",
       "\n",
       "    .dataframe thead th {\n",
       "        text-align: right;\n",
       "    }\n",
       "</style>\n",
       "<table border=\"1\" class=\"dataframe\">\n",
       "  <thead>\n",
       "    <tr style=\"text-align: right;\">\n",
       "      <th></th>\n",
       "      <th>fNAME</th>\n",
       "      <th>lNAME</th>\n",
       "      <th>Age</th>\n",
       "      <th>gender</th>\n",
       "      <th>country</th>\n",
       "      <th>residence</th>\n",
       "      <th>entryEXAM</th>\n",
       "      <th>prevEducation</th>\n",
       "      <th>studyHOURS</th>\n",
       "      <th>Python</th>\n",
       "      <th>DB</th>\n",
       "    </tr>\n",
       "  </thead>\n",
       "  <tbody>\n",
       "    <tr>\n",
       "      <th>0</th>\n",
       "      <td>Christina</td>\n",
       "      <td>Binger</td>\n",
       "      <td>44</td>\n",
       "      <td>Female</td>\n",
       "      <td>Norway</td>\n",
       "      <td>Private</td>\n",
       "      <td>72</td>\n",
       "      <td>Masters</td>\n",
       "      <td>158</td>\n",
       "      <td>59.0</td>\n",
       "      <td>55</td>\n",
       "    </tr>\n",
       "    <tr>\n",
       "      <th>1</th>\n",
       "      <td>Alex</td>\n",
       "      <td>Walekhwa</td>\n",
       "      <td>60</td>\n",
       "      <td>M</td>\n",
       "      <td>Kenya</td>\n",
       "      <td>Private</td>\n",
       "      <td>79</td>\n",
       "      <td>Diploma</td>\n",
       "      <td>150</td>\n",
       "      <td>60.0</td>\n",
       "      <td>75</td>\n",
       "    </tr>\n",
       "    <tr>\n",
       "      <th>2</th>\n",
       "      <td>Philip</td>\n",
       "      <td>Leo</td>\n",
       "      <td>25</td>\n",
       "      <td>Male</td>\n",
       "      <td>Uganda</td>\n",
       "      <td>Sognsvann</td>\n",
       "      <td>55</td>\n",
       "      <td>HighSchool</td>\n",
       "      <td>130</td>\n",
       "      <td>74.0</td>\n",
       "      <td>50</td>\n",
       "    </tr>\n",
       "    <tr>\n",
       "      <th>3</th>\n",
       "      <td>Shoni</td>\n",
       "      <td>Hlongwane</td>\n",
       "      <td>22</td>\n",
       "      <td>F</td>\n",
       "      <td>Rsa</td>\n",
       "      <td>Sognsvann</td>\n",
       "      <td>40</td>\n",
       "      <td>High School</td>\n",
       "      <td>120</td>\n",
       "      <td>NaN</td>\n",
       "      <td>44</td>\n",
       "    </tr>\n",
       "    <tr>\n",
       "      <th>4</th>\n",
       "      <td>Maria</td>\n",
       "      <td>Kedibone</td>\n",
       "      <td>23</td>\n",
       "      <td>Female</td>\n",
       "      <td>South Africa</td>\n",
       "      <td>Sognsvann</td>\n",
       "      <td>65</td>\n",
       "      <td>High School</td>\n",
       "      <td>122</td>\n",
       "      <td>91.0</td>\n",
       "      <td>80</td>\n",
       "    </tr>\n",
       "  </tbody>\n",
       "</table>\n",
       "</div>"
      ],
      "text/plain": [
       "       fNAME      lNAME  Age  gender       country  residence  entryEXAM  \\\n",
       "0  Christina     Binger   44  Female        Norway    Private         72   \n",
       "1       Alex   Walekhwa   60       M         Kenya    Private         79   \n",
       "2     Philip        Leo   25    Male        Uganda  Sognsvann         55   \n",
       "3      Shoni  Hlongwane   22       F           Rsa  Sognsvann         40   \n",
       "4      Maria   Kedibone   23  Female  South Africa  Sognsvann         65   \n",
       "\n",
       "  prevEducation  studyHOURS  Python  DB  \n",
       "0       Masters         158    59.0  55  \n",
       "1       Diploma         150    60.0  75  \n",
       "2    HighSchool         130    74.0  50  \n",
       "3   High School         120     NaN  44  \n",
       "4   High School         122    91.0  80  "
      ]
     },
     "execution_count": 34,
     "metadata": {},
     "output_type": "execute_result"
    }
   ],
   "source": [
    "# Dataset structure\n",
    "print(df.shape)       # Rows, Columns\n",
    "print(df.info())      # Data types\n",
    "df.head()"
   ]
  },
  {
   "cell_type": "markdown",
   "id": "90c4687a-031c-4383-aa81-0a87538d0ad2",
   "metadata": {},
   "source": [
    "The dataset has 77 rows and 11 columns.\n",
    "- Categorical columns: fNAME, lNAME, gender, country, residence, prevEducation\n",
    "- Numerical columns: Age, entryEXAM, studyHOURS, Python, DB"
   ]
  },
  {
   "cell_type": "markdown",
   "id": "80463151-5bb9-4589-80ff-3082715b40e9",
   "metadata": {},
   "source": [
    "----------------------------------------------------------------------------------------------------------------------------"
   ]
  },
  {
   "cell_type": "markdown",
   "id": "7f7976cf-0b86-451c-a2b8-fb555e72dae2",
   "metadata": {},
   "source": [
    "*2.\tDetect inconsistent categories*\n",
    "\n",
    "○\tRun df['gender'].unique(), df['country'].unique(), and df['prevEducation'].unique().\n",
    "\n",
    "○\tFind issues such as \"Male\" vs \"M\" or \"Barrrchelors\" vs \"Bachelor\".\n",
    "\n",
    "○\tTask: Fix them using .replace() or string methods like .str.upper().strip()"
   ]
  },
  {
   "cell_type": "code",
   "execution_count": 35,
   "id": "ff17d043-8057-4c72-b102-1a7365a8c42d",
   "metadata": {},
   "outputs": [
    {
     "name": "stdout",
     "output_type": "stream",
     "text": [
      "['Female' 'M' 'Male' 'F' 'female' 'male']\n",
      "['Norway' 'Kenya' 'Uganda' 'Rsa' 'South Africa' 'Norge' 'norway' 'Denmark'\n",
      " 'Netherlands' 'Italy' 'Spain' 'UK' 'Somali' 'Nigeria' 'Germany' 'France']\n",
      "['Masters' 'Diploma' 'HighSchool' 'High School' 'Bachelors' 'Barrrchelors'\n",
      " 'diploma' 'DIPLOMA' 'Diplomaaa' 'Doctorate']\n"
     ]
    }
   ],
   "source": [
    "print(df['gender'].unique())\n",
    "print(df['country'].unique())\n",
    "print(df['prevEducation'].unique())"
   ]
  },
  {
   "cell_type": "code",
   "execution_count": 36,
   "id": "9d85723c-3c71-422c-9046-348cfcf8a26c",
   "metadata": {},
   "outputs": [],
   "source": [
    "# Fix gender \n",
    "df['gender'] = df['gender'].replace({'M': 'Male', 'F': 'Female'}).str.title()\n",
    "\n",
    "# Fix country names \n",
    "df['country'] = df['country'].str.strip().str.upper().replace({\n",
    "    'NORGE': 'NORWAY',\n",
    "    'RSA': 'SOUTH AFRICA', \n",
    "    'Rsa': 'SOUTH AFRICA'\n",
    "})\n",
    "\n",
    "# Fix prevEducation\n",
    "df['prevEducation'] = df['prevEducation'].str.strip().str.title().replace({\n",
    "    'Highschool': 'High School',\n",
    "    'Highschool ': 'High School',\n",
    "    'Barrrchelors': 'Bachelor',\n",
    "    'Bachelors': 'Bachelor',\n",
    "    'Diplomaaa' : 'Diploma'\n",
    "})"
   ]
  },
  {
   "cell_type": "code",
   "execution_count": 37,
   "id": "f60e03bf-0023-4b26-b808-80bc537dbe39",
   "metadata": {},
   "outputs": [
    {
     "name": "stdout",
     "output_type": "stream",
     "text": [
      "['Female' 'Male']\n",
      "['NORWAY' 'KENYA' 'UGANDA' 'SOUTH AFRICA' 'DENMARK' 'NETHERLANDS' 'ITALY'\n",
      " 'SPAIN' 'UK' 'SOMALI' 'NIGERIA' 'GERMANY' 'FRANCE']\n",
      "['Masters' 'Diploma' 'High School' 'Bachelor' 'Doctorate']\n"
     ]
    }
   ],
   "source": [
    "print(df['gender'].unique())\n",
    "print(df['country'].unique())\n",
    "print(df['prevEducation'].unique())"
   ]
  },
  {
   "cell_type": "markdown",
   "id": "ef5d4d70-50cc-415e-8a84-1d12a45456a8",
   "metadata": {},
   "source": [
    "----------------------------------------------------------------------------------------------------------------------------"
   ]
  },
  {
   "cell_type": "markdown",
   "id": "197ee6fb-2381-4ee7-b1e0-45560a2b93aa",
   "metadata": {},
   "source": [
    "3.\tHandle duplicates\n",
    "\n",
    "○\tCheck for duplicates with df.duplicated().sum().\n",
    "\n",
    "○\tTask: Drop them using df.drop_duplicates()."
   ]
  },
  {
   "cell_type": "code",
   "execution_count": 38,
   "id": "08d88cef-695a-4ea6-accd-e8d0781ed40a",
   "metadata": {},
   "outputs": [
    {
     "name": "stdout",
     "output_type": "stream",
     "text": [
      "Number of duplicates after dropping: 0\n"
     ]
    }
   ],
   "source": [
    "duplicates = df.duplicated().sum()\n",
    "df = df.drop_duplicates()\n",
    "print(\"Number of duplicates after dropping:\", duplicates)"
   ]
  },
  {
   "cell_type": "markdown",
   "id": "06176fab-4b75-45e6-88bd-4f299aafd287",
   "metadata": {},
   "source": [
    "----------------------------------------------------------------------------------------------------------------------------\n",
    "----------------------------------------------------------------------------------------------------------------------------"
   ]
  },
  {
   "cell_type": "markdown",
   "id": "a1d1850a-ce6c-4ec4-baae-259dc1dc7009",
   "metadata": {},
   "source": [
    "**Part 2 – Missing Data**"
   ]
  },
  {
   "cell_type": "markdown",
   "id": "b19c686b-fd8f-4672-84c4-98654651be29",
   "metadata": {},
   "source": [
    "1.\tIdentify missing values\n",
    "\n",
    "○\tUse df.isnull().sum() to see which columns have missing data.\n",
    "\n",
    "○\tQuestion: Which columns are most affected by missing values?"
   ]
  },
  {
   "cell_type": "code",
   "execution_count": 39,
   "id": "d5330656-3329-4c14-898e-42d083010bdd",
   "metadata": {},
   "outputs": [
    {
     "name": "stdout",
     "output_type": "stream",
     "text": [
      "fNAME            0\n",
      "lNAME            0\n",
      "Age              0\n",
      "gender           0\n",
      "country          0\n",
      "residence        0\n",
      "entryEXAM        0\n",
      "prevEducation    0\n",
      "studyHOURS       0\n",
      "Python           2\n",
      "DB               0\n",
      "dtype: int64\n"
     ]
    }
   ],
   "source": [
    "print(df.isnull().sum())"
   ]
  },
  {
   "cell_type": "markdown",
   "id": "45275b85-043c-4b8e-8e6f-d7bdb766ee55",
   "metadata": {},
   "source": [
    "Missing values exist mainly in Python."
   ]
  },
  {
   "cell_type": "markdown",
   "id": "e91a6455-90ec-48ea-a7ae-b9c8b48c7f72",
   "metadata": {},
   "source": [
    "----------------------------------------------------------------------------------------------------------------------------"
   ]
  },
  {
   "cell_type": "markdown",
   "id": "4d69e4b2-2934-44c6-a322-dafd6c8db942",
   "metadata": {},
   "source": [
    "2.\tImpute missing values\n",
    "\n",
    "○\t*Option 1 (Numerical)*: Fill missing scores in Python or DB using mean or median.\n",
    "\n",
    "○\t*Option 2 (Categorical)*: Fill missing categories in country or gender with mode.\n",
    "\n",
    "○\t*Task*: Try both methods and compare results."
   ]
  },
  {
   "cell_type": "code",
   "execution_count": 40,
   "id": "336135eb-8549-44c8-b32b-e7a83f8d4d27",
   "metadata": {},
   "outputs": [
    {
     "name": "stdout",
     "output_type": "stream",
     "text": [
      "fNAME            0\n",
      "lNAME            0\n",
      "Age              0\n",
      "gender           0\n",
      "country          0\n",
      "residence        0\n",
      "entryEXAM        0\n",
      "prevEducation    0\n",
      "studyHOURS       0\n",
      "Python           0\n",
      "DB               0\n",
      "dtype: int64\n"
     ]
    }
   ],
   "source": [
    "# Fill numerical with mean\n",
    "df['Python'] = df['Python'].fillna(df['Python'].mean())\n",
    "print(df.isnull().sum())"
   ]
  },
  {
   "cell_type": "markdown",
   "id": "0a8b016b-d6e5-4e04-a8f0-c701ad435d24",
   "metadata": {},
   "source": [
    "No missing values at DB or categories like country or gender to be filled"
   ]
  },
  {
   "cell_type": "markdown",
   "id": "9b24c547-e727-49e0-a3c4-4dff06b7e383",
   "metadata": {},
   "source": [
    "----------------------------------------------------------------------------------------------------------------------------\n",
    "----------------------------------------------------------------------------------------------------------------------------"
   ]
  },
  {
   "cell_type": "markdown",
   "id": "9bc9deca-af95-4363-84e5-512415af2c8b",
   "metadata": {},
   "source": [
    "**Part 3 – Outliers**"
   ]
  },
  {
   "cell_type": "markdown",
   "id": "bb817d70-240b-4049-96b3-32efdf6187d9",
   "metadata": {},
   "source": [
    "1.\tDetect outliers\n",
    "\n",
    "○\tUse boxplots (sns.boxplot) or summary statistics (df['Python'].describe()).\n",
    "\n",
    "○\tQuestion: Which values in studyHOURS, Python, or DB look unrealistic?"
   ]
  },
  {
   "cell_type": "code",
   "execution_count": 41,
   "id": "822113ff-787b-4072-8fa4-fd707f7e2792",
   "metadata": {},
   "outputs": [
    {
     "data": {
      "image/png": "[encoded data removed]",
      "text/plain": [
       "<Figure size 1200x400 with 1 Axes>"
      ]
     },
     "metadata": {},
     "output_type": "display_data"
    }
   ],
   "source": [
    "# Detect outliers with boxplots\n",
    "import matplotlib.pyplot as plt\n",
    "import seaborn as sns\n",
    "\n",
    "plt.figure(figsize=(12,4))\n",
    "sns.boxplot(data=df[['studyHOURS','Python','DB']])\n",
    "plt.show()"
   ]
  },
  {
   "cell_type": "markdown",
   "id": "624212ac-707f-4e93-8136-bbcf91fcc158",
   "metadata": {},
   "source": [
    "As we see outliers found in studyHOURS and Python, while DB scores had no outliers."
   ]
  },
  {
   "cell_type": "markdown",
   "id": "7ef04c7c-a09a-4b62-96bc-21886e63c5bb",
   "metadata": {},
   "source": [
    "**Explaination of the concept**\n",
    "\n",
    "What a Boxplot Shows?\n",
    "\n",
    "Each boxplot summarizes a column’s distribution using five key statistics (from descriptive statistics):\n",
    "\n",
    "Median (Q2): the middle value → shown as a line inside the box.\n",
    "\n",
    "Q1 (25th percentile): the lower edge of the box.\n",
    "\n",
    "Q3 (75th percentile): the upper edge of the box.\n",
    "\n",
    "IQR (Interquartile Range) = Q3 – Q1 → box height.\n",
    "\n",
    "Whiskers: extend typically to Q1 - 1.5 X IQR (lower) and Q3 + 1.5 X IQR (upper).\n",
    "\n",
    "*Any point outside the whiskers is considered an outlier*"
   ]
  },
  {
   "cell_type": "markdown",
   "id": "da9406b4-2c59-4a89-be73-5244303ba501",
   "metadata": {},
   "source": [
    "---------------------------------------------------------------------------------------------------------------------------------"
   ]
  },
  {
   "cell_type": "markdown",
   "id": "4f69f724-9bf3-4df0-8f20-7e29e63a75e1",
   "metadata": {},
   "source": [
    "**2.\tHandle outliers**\n",
    "\n",
    "**○\tOption 1: Remove rows where scores are outside a reasonable range (e.g., <0 or >100).**"
   ]
  },
  {
   "cell_type": "code",
   "execution_count": 42,
   "id": "87c055dc-b8c8-4f1e-a449-dd4dbb128537",
   "metadata": {},
   "outputs": [
    {
     "name": "stdout",
     "output_type": "stream",
     "text": [
      "Shape after defining range 0-100: (77, 11)\n"
     ]
    }
   ],
   "source": [
    "# Option 1\n",
    "# Remove rows where entryEXAM, Python or DB scores are outside 0–100\n",
    "df_option1 = df[(df['Python'].between(0,100)) & (df['DB'].between(0,100)) & (df['entryEXAM'].between(0,100))]\n",
    "\n",
    "print(\"Shape after defining range 0-100:\", df_option1.shape)\n"
   ]
  },
  {
   "cell_type": "markdown",
   "id": "584902ef-da74-4214-ae89-82aad068a685",
   "metadata": {},
   "source": [
    "The dataset still have the same numbers of rows (77) and columns (11), that means all Python/DB/entryEXAM values are already within 0–100, so this option won’t remove any record."
   ]
  },
  {
   "cell_type": "markdown",
   "id": "edcd15d6-4b73-4553-83de-62600034265b",
   "metadata": {},
   "source": [
    "**○\tOption 2: Apply IQR method**"
   ]
  },
  {
   "cell_type": "markdown",
   "id": "8f033815-323e-4be7-9b0a-d0045db83b4e",
   "metadata": {},
   "source": [
    "The Interquartile Range (IQR) method:\n",
    "\n",
    "Outlier = value < (Q1 – 1.5×IQR) OR value > (Q3 + 1.5×IQR)."
   ]
  },
  {
   "cell_type": "code",
   "execution_count": 43,
   "id": "7a6cee53-6093-4cb0-ace3-c8ebdec5b4fd",
   "metadata": {},
   "outputs": [],
   "source": [
    "def cap_outliers_iqr(series):\n",
    "    Q1 = series.quantile(0.25)\n",
    "    Q3 = series.quantile(0.75)\n",
    "    IQR = Q3 - Q1\n",
    "    lower = Q1 - 1.5 * IQR\n",
    "    upper = Q3 + 1.5 * IQR\n",
    "    return series.clip(lower, upper)\n",
    "\n",
    "df['Python'] = cap_outliers_iqr(df['Python'])\n",
    "df['studyHOURS'] = cap_outliers_iqr(df['studyHOURS'])"
   ]
  },
  {
   "cell_type": "code",
   "execution_count": 44,
   "id": "def6d579-f83c-4198-a779-ea6569edf32f",
   "metadata": {},
   "outputs": [
    {
     "data": {
      "image/png": "[encoded data removed]",
      "text/plain": [
       "<Figure size 1200x400 with 1 Axes>"
      ]
     },
     "metadata": {},
     "output_type": "display_data"
    }
   ],
   "source": [
    "plt.figure(figsize=(12,4))\n",
    "sns.boxplot(data=df[['studyHOURS','Python','DB']])\n",
    "plt.show()"
   ]
  },
  {
   "cell_type": "markdown",
   "id": "74f6cc3e-4088-4adb-ba93-af57ca417476",
   "metadata": {},
   "source": [
    "--------------------------------------------------------------------------------------------------------------------------------------------------------"
   ]
  },
  {
   "cell_type": "markdown",
   "id": "050fcb52-cdb0-4abc-ba06-3074a7d60327",
   "metadata": {},
   "source": [
    "**Save a cleaned version of the dataset**"
   ]
  },
  {
   "cell_type": "code",
   "execution_count": 45,
   "id": "3e870f18-bfde-4474-bf8e-f6cc7c1b1cac",
   "metadata": {},
   "outputs": [
    {
     "name": "stdout",
     "output_type": "stream",
     "text": [
      "Final cleaned dataset saved as cleaned_students.csv\n"
     ]
    }
   ],
   "source": [
    "df.to_csv(\"cleaned_students.csv\", index=False)\n",
    "print(\"Final cleaned dataset saved as cleaned_students.csv\")"
   ]
  },
  {
   "cell_type": "code",
   "execution_count": null,
   "id": "689a754e-8d9d-4d48-84ca-470fcadf7611",
   "metadata": {},
   "outputs": [],
   "source": []
  }
 ],
 "metadata": {
  "kernelspec": {
   "display_name": "Python 3 (ipykernel)",
   "language": "python",
   "name": "python3"
  },
  "language_info": {
   "codemirror_mode": {
    "name": "ipython",
    "version": 3
   },
   "file_extension": ".py",
   "mimetype": "text/x-python",
   "name": "python",
   "nbconvert_exporter": "python",
   "pygments_lexer": "ipython3",
   "version": "3.13.5"
  }
 },
 "nbformat": 4,
 "nbformat_minor": 5
}
